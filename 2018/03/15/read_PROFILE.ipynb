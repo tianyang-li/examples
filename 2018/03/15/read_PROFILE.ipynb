{
 "cells": [
  {
   "cell_type": "code",
   "execution_count": 1,
   "metadata": {},
   "outputs": [
    {
     "name": "stdout",
     "output_type": "stream",
     "text": [
      "The autoreload extension is already loaded. To reload it, use:\n",
      "  %reload_ext autoreload\n"
     ]
    }
   ],
   "source": [
    "%reload_ext autoreload\n",
    "%matplotlib notebook\n",
    "%load_ext autoreload\n",
    "%autoreload 2\n",
    "%reload_ext autoreload\n",
    "\n",
    "import numpy as np\n",
    "import matplotlib.pyplot as plt\n",
    "import pandas as pd\n",
    "import scipy\n",
    "import seaborn as sns\n",
    "\n",
    "\n",
    "import math\n",
    "\n",
    "\n",
    "import cPickle as pickle\n",
    "\n",
    "import datetime\n",
    "\n",
    "\n",
    "\n",
    "\n",
    "from IPython.display import display, HTML"
   ]
  },
  {
   "cell_type": "code",
   "execution_count": 2,
   "metadata": {},
   "outputs": [],
   "source": [
    "import pstats\n",
    "\n",
    "# https://docs.python.org/2/library/profile.html\n",
    "# https://wiki.python.org/moin/PythonSpeed/PerformanceTips#The_cProfile_and_Hotshot_Modules\n",
    "\n",
    "# python -m cProfile -o stat.prof MYSCRIPY.PY [ARGS...]"
   ]
  },
  {
   "cell_type": "code",
   "execution_count": 3,
   "metadata": {},
   "outputs": [],
   "source": [
    "p = pstats.Stats('narsil-2.prog')"
   ]
  },
  {
   "cell_type": "code",
   "execution_count": 4,
   "metadata": {},
   "outputs": [
    {
     "name": "stdout",
     "output_type": "stream",
     "text": [
      "Mon Apr  9 14:19:55 2018    narsil-2.prog\n",
      "\n",
      "         866244586 function calls (863806975 primitive calls) in 3559.760 seconds\n",
      "\n",
      "   Ordered by: internal time\n",
      "   List reduced from 12275 to 100 due to restriction <100>\n",
      "\n",
      "   ncalls  tottime  percall  cumtime  percall filename:lineno(function)\n",
      "      703 1749.458    2.489 1749.458    2.489 {_pywrap_tensorflow_internal.TF_Run}\n",
      "       24  616.120   25.672  616.120   25.672 {_pywrap_tensorflow_internal.TF_ExtendGraph}\n",
      "     1204   87.525    0.073  142.992    0.119 /scratch/cluster/lty/anaconda2/lib/python2.7/site-packages/tensorflow/python/ops/gradients_impl.py:107(_MarkReachedOps)\n",
      "  1230194   51.398    0.000   56.071    0.000 /scratch/cluster/lty/anaconda2/lib/python2.7/site-packages/tensorflow/python/framework/ops.py:2741(_extract_stack)\n",
      "  3303263   44.240    0.000   54.581    0.000 /scratch/cluster/lty/anaconda2/lib/python2.7/site-packages/tensorflow/python/framework/ops.py:2146(get_attr)\n",
      "  4505208   40.024    0.000   41.191    0.000 /scratch/cluster/lty/anaconda2/lib/python2.7/site-packages/tensorflow/python/framework/tensor_shape.py:812(as_proto)\n",
      "  4217440   36.242    0.000   36.242    0.000 {method 'SerializeToString' of 'google.protobuf.pyext._message.CMessage' objects}\n",
      "267200/266000   36.000    0.000  414.917    0.002 /scratch/cluster/lty/anaconda2/lib/python2.7/site-packages/tensorflow/python/framework/op_def_library.py:339(_apply_op_helper)\n",
      "118140714   34.533    0.000   34.533    0.000 /scratch/cluster/lty/anaconda2/lib/python2.7/site-packages/tensorflow/python/framework/ops.py:493(consumers)\n",
      "  1230194   33.426    0.000  190.726    0.000 /scratch/cluster/lty/anaconda2/lib/python2.7/site-packages/tensorflow/python/framework/ops.py:1513(__init__)\n",
      "84958372/84957880   27.809    0.000   29.589    0.000 {isinstance}\n",
      "  3920845   27.789    0.000   27.789    0.000 {method 'ByteSize' of 'google.protobuf.pyext._message.CMessage' objects}\n",
      "   962994   26.558    0.000  103.959    0.000 /scratch/cluster/lty/anaconda2/lib/python2.7/site-packages/tensorflow/python/framework/tensor_util.py:331(make_tensor_proto)\n",
      "   676410   26.116    0.000   26.116    0.000 {_pywrap_tensorflow_internal.RunCppShapeInference}\n",
      "   676410   25.809    0.000  205.173    0.000 /scratch/cluster/lty/anaconda2/lib/python2.7/site-packages/tensorflow/python/framework/common_shapes.py:650(_call_cpp_shape_fn_impl)\n",
      "  1230194   25.513    0.000  288.726    0.000 /scratch/cluster/lty/anaconda2/lib/python2.7/site-packages/tensorflow/python/framework/common_shapes.py:588(call_cpp_shape_fn)\n",
      "  1230194   24.563    0.000   37.457    0.000 /scratch/cluster/lty/anaconda2/lib/python2.7/site-packages/tensorflow/python/framework/ops.py:1408(_NodeDef)\n",
      "  5332110   24.233    0.000   47.375    0.000 /scratch/cluster/lty/anaconda2/lib/python2.7/site-packages/tensorflow/python/framework/tensor_shape.py:420(__init__)\n",
      "  1460457   23.693    0.000   23.693    0.000 {method 'extend' of 'google.protobuf.pyext._message.RepeatedCompositeContainer' objects}\n",
      "   962994   21.147    0.000  438.365    0.000 /scratch/cluster/lty/anaconda2/lib/python2.7/site-packages/tensorflow/python/framework/constant_op.py:133(constant)\n",
      "  7235775   19.492    0.000   19.492    0.000 {method 'CopyFrom' of 'google.protobuf.pyext._message.CMessage' objects}\n",
      " 15852437   16.637    0.000   21.025    0.000 /scratch/cluster/lty/anaconda2/lib/python2.7/site-packages/tensorflow/python/framework/dtypes.py:583(as_dtype)\n",
      "  1370903   15.040    0.000   15.040    0.000 {method 'reduce' of 'numpy.ufunc' objects}\n",
      "  1230194   14.981    0.000  622.211    0.001 /scratch/cluster/lty/anaconda2/lib/python2.7/site-packages/tensorflow/python/framework/ops.py:3086(create_op)\n",
      "  2845348   14.599    0.000   57.930    0.000 /scratch/cluster/lty/anaconda2/lib/python2.7/site-packages/tensorflow/python/framework/common_shapes.py:656(tensor_to_inference_result)\n",
      "  1230194   14.271    0.000  339.821    0.000 /scratch/cluster/lty/anaconda2/lib/python2.7/site-packages/tensorflow/python/framework/ops.py:2390(_set_shapes_for_outputs)\n",
      "  5309481   12.758    0.000   19.649    0.000 /scratch/cluster/lty/anaconda2/lib/python2.7/site-packages/tensorflow/python/framework/tensor_shape.py:381(as_dimension)\n",
      "   797964   12.430    0.000   41.999    0.000 /scratch/cluster/lty/anaconda2/lib/python2.7/site-packages/tensorflow/python/framework/tensor_util.py:518(MakeNdarray)\n",
      "  1230194   11.844    0.000   11.844    0.000 {method '__deepcopy__' of 'google.protobuf.pyext._message.CMessage' objects}\n",
      " 10320286   11.450    0.000   11.450    0.000 /scratch/cluster/lty/anaconda2/lib/python2.7/site-packages/tensorflow/python/framework/ops.py:2053(type)\n",
      "118143122   11.402    0.000   11.402    0.000 {method 'extend' of 'collections.deque' objects}\n",
      "  2478432   10.621    0.000   17.125    0.000 /scratch/cluster/lty/anaconda2/lib/python2.7/site-packages/tensorflow/python/framework/registry.py:78(lookup)\n",
      "  1230194   10.536    0.000  372.612    0.000 /scratch/cluster/lty/anaconda2/lib/python2.7/site-packages/tensorflow/python/framework/ops.py:3198(_create_op_helper)\n",
      "       24   10.386    0.433   45.808    1.909 /scratch/cluster/lty/anaconda2/lib/python2.7/site-packages/tensorflow/python/framework/ops.py:2925(_as_graph_def)\n",
      "  1250654    8.751    0.000    9.507    0.000 /scratch/cluster/lty/anaconda2/lib/python2.7/site-packages/tensorflow/python/framework/ops.py:3829(unique_name)\n",
      "2238891/2235287    8.658    0.000  294.423    0.000 /scratch/cluster/lty/anaconda2/lib/python2.7/site-packages/tensorflow/python/framework/ops.py:939(internal_convert_to_tensor)\n",
      "  1230232    8.261    0.000    8.582    0.000 /scratch/cluster/lty/anaconda2/lib/python2.7/copy.py:267(_keep_alive)\n",
      "  1230194    8.133    0.000   14.012    0.000 /scratch/cluster/lty/anaconda2/lib/python2.7/site-packages/tensorflow/python/framework/ops.py:2790(_add_op)\n",
      "      703    8.104    0.012 2434.609    3.463 /scratch/cluster/lty/anaconda2/lib/python2.7/site-packages/tensorflow/python/client/session.py:1317(_run_fn)\n",
      "  4227864    7.691    0.000    7.691    0.000 {numpy.core.multiarray.array}\n",
      "  9691705    7.337    0.000    7.337    0.000 {getattr}\n",
      " 10238499    7.107    0.000   12.298    0.000 /scratch/cluster/lty/anaconda2/lib/python2.7/site-packages/tensorflow/python/framework/dtypes.py:270(__eq__)\n",
      "  2104961    7.019    0.000    7.019    0.000 {method 'match' of '_sre.SRE_Pattern' objects}\n",
      " 23050462    6.948    0.000    6.948    0.000 {method 'HasField' of 'google.protobuf.pyext._message.CMessage' objects}\n",
      " 27956219    6.710    0.000    6.710    0.000 /scratch/cluster/lty/anaconda2/lib/python2.7/site-packages/tensorflow/python/framework/ops.py:1761(_id)\n",
      "  1138719    6.356    0.000   17.818    0.000 /scratch/cluster/lty/anaconda2/lib/python2.7/site-packages/tensorflow/python/framework/ops.py:4994(_get_graph_from_inputs)\n",
      "1230233/1230195    6.281    0.000   29.170    0.000 /scratch/cluster/lty/anaconda2/lib/python2.7/copy.py:145(deepcopy)\n",
      "  5947151    6.243    0.000    6.243    0.000 /scratch/cluster/lty/anaconda2/lib/python2.7/site-packages/tensorflow/python/framework/ops.py:1753(name)\n",
      "  1593804    5.938    0.000   13.056    0.000 /scratch/cluster/lty/anaconda2/lib/python2.7/site-packages/tensorflow/python/framework/ops.py:280(__init__)\n",
      "  1230194    5.674    0.000   10.212    0.000 /scratch/cluster/lty/anaconda2/lib/python2.7/site-packages/tensorflow/python/framework/ops.py:1951(_recompute_node_def)\n",
      "  3640035    5.646    0.000    6.837    0.000 /scratch/cluster/lty/anaconda2/lib/python2.7/site-packages/tensorflow/python/framework/tensor_shape.py:27(__init__)\n",
      "2337142/2319104    5.344    0.000    7.778    0.000 /scratch/cluster/lty/anaconda2/lib/python2.7/contextlib.py:21(__exit__)\n",
      " 17446007    5.268    0.000    5.268    0.000 /scratch/cluster/lty/anaconda2/lib/python2.7/site-packages/tensorflow/python/framework/ops.py:1969(outputs)\n",
      "  4373370    5.125    0.000    7.079    0.000 /scratch/cluster/lty/anaconda2/lib/python2.7/site-packages/tensorflow/python/framework/ops.py:1999(inputs)\n",
      "  5877059    4.971    0.000   11.570    0.000 /scratch/cluster/lty/anaconda2/lib/python2.7/site-packages/tensorflow/python/util/compat.py:46(as_bytes)\n",
      "   797964    4.643    0.000   16.522    0.000 /scratch/cluster/lty/anaconda2/lib/python2.7/site-packages/numpy/core/fromnumeric.py:2456(prod)\n",
      "   572903    4.554    0.000   10.500    0.000 /scratch/cluster/lty/anaconda2/lib/python2.7/site-packages/numpy/core/numeric.py:2358(array_equal)\n",
      "  2495333    4.029    0.000    6.359    0.000 /scratch/cluster/lty/anaconda2/lib/python2.7/site-packages/tensorflow/python/framework/ops.py:4803(get_default)\n",
      "  2571412    3.994    0.000    3.994    0.000 {method 'encode' of 'unicode' objects}\n",
      "   371430    3.969    0.000  192.640    0.001 /scratch/cluster/lty/anaconda2/lib/python2.7/site-packages/tensorflow/python/ops/array_ops.py:279(shape_internal)\n",
      "  2878717    3.955    0.000    7.628    0.000 /scratch/cluster/lty/anaconda2/lib/python2.7/site-packages/tensorflow/python/framework/dtypes.py:247(is_compatible_with)\n",
      "  1743038    3.747    0.000   13.964    0.000 /scratch/cluster/lty/anaconda2/lib/python2.7/site-packages/tensorflow/python/framework/ops.py:3714(name_scope)\n",
      "  2027075    3.618    0.000    3.618    0.000 {built-in method FromString}\n",
      "813588/812388    3.473    0.000   58.298    0.000 /scratch/cluster/lty/anaconda2/lib/python2.7/site-packages/tensorflow/python/framework/tensor_util.py:636(_ConstantValue)\n",
      "   190165    3.459    0.000  325.545    0.002 /scratch/cluster/lty/anaconda2/lib/python2.7/site-packages/tensorflow/python/ops/gen_array_ops.py:5340(strided_slice)\n",
      "  1230194    3.433    0.000  343.255    0.000 /scratch/cluster/lty/anaconda2/lib/python2.7/site-packages/tensorflow/python/framework/ops.py:2422(set_shapes_for_outputs)\n",
      " 27450766    3.414    0.000    3.414    0.000 {method 'append' of 'list' objects}\n",
      "   190165    3.406    0.000  616.821    0.003 /scratch/cluster/lty/anaconda2/lib/python2.7/site-packages/tensorflow/python/ops/array_ops.py:446(_slice_helper)\n",
      "  1230194    3.357    0.000    3.663    0.000 /scratch/cluster/lty/anaconda2/lib/python2.7/site-packages/tensorflow/python/framework/ops.py:3517(_next_id)\n",
      "   871519    3.329    0.000   32.656    0.000 /scratch/cluster/lty/anaconda2/lib/python2.7/site-packages/tensorflow/python/framework/ops.py:5346(__enter__)\n",
      "     1204    3.264    0.003  146.865    0.122 /scratch/cluster/lty/anaconda2/lib/python2.7/site-packages/tensorflow/python/ops/gradients_impl.py:150(_PendingCount)\n",
      "  2337142    3.023    0.000    4.921    0.000 /scratch/cluster/lty/anaconda2/lib/python2.7/contextlib.py:82(helper)\n",
      "  2018170    3.003    0.000   20.778    0.000 /scratch/cluster/lty/anaconda2/lib/python2.7/site-packages/tensorflow/python/framework/tensor_shape.py:555(merge_with)\n",
      "  3428522    2.918    0.000   18.434    0.000 /scratch/cluster/lty/anaconda2/lib/python2.7/site-packages/tensorflow/python/framework/tensor_shape.py:844(as_shape)\n",
      "     1204    2.815    0.002  457.472    0.380 /scratch/cluster/lty/anaconda2/lib/python2.7/site-packages/tensorflow/python/ops/gradients_impl.py:397(gradients)\n",
      "  7738895    2.806    0.000    2.972    0.000 {method 'get' of 'dict' objects}\n",
      "  6260224    2.528    0.000    3.634    0.000 /scratch/cluster/lty/anaconda2/lib/python2.7/site-packages/tensorflow/python/framework/dtypes.py:103(base_dtype)\n",
      "  1978466    2.448    0.000   22.317    0.000 /scratch/cluster/lty/anaconda2/lib/python2.7/site-packages/tensorflow/python/framework/ops.py:433(set_shape)\n",
      "   579515    2.447    0.000    2.447    0.000 {tensorflow.python.framework.fast_tensor_util.AppendInt32ArrayToTensorProto}\n",
      "   772690    2.435    0.000    2.435    0.000 {method 'repeat' of 'numpy.ndarray' objects}\n",
      "  3038298    2.353    0.000    2.379    0.000 {zip}\n",
      " 14587891    2.334    0.000    2.334    0.000 /scratch/cluster/lty/anaconda2/lib/python2.7/site-packages/tensorflow/python/framework/dtypes.py:135(as_datatype_enum)\n",
      "   871519    2.248    0.000    8.102    0.000 /scratch/cluster/lty/anaconda2/lib/python2.7/site-packages/tensorflow/python/framework/ops.py:5388(__exit__)\n",
      "  3658124    2.243    0.000    3.420    0.000 /scratch/cluster/lty/anaconda2/lib/python2.7/site-packages/tensorflow/python/framework/ops.py:429(get_shape)\n",
      "813588/812388    2.192    0.000   63.831    0.000 /scratch/cluster/lty/anaconda2/lib/python2.7/site-packages/tensorflow/python/framework/tensor_util.py:744(constant_value)\n",
      "    12992    2.113    0.000    2.243    0.000 {sorted}\n",
      "  3702771    2.092    0.000    2.878    0.000 /scratch/cluster/lty/anaconda2/lib/python2.7/site-packages/tensorflow/python/framework/ops.py:317(graph)\n",
      "  2278844    2.088    0.000    2.713    0.000 /scratch/cluster/lty/anaconda2/lib/python2.7/site-packages/tensorflow/python/framework/ops.py:4634(get_controller)\n",
      "   677355    2.048    0.000    3.491    0.000 /scratch/cluster/lty/anaconda2/lib/python2.7/site-packages/tensorflow/python/framework/errors_impl.py:467(__exit__)\n",
      "   588247    2.017    0.000    2.686    0.000 /scratch/cluster/lty/anaconda2/lib/python2.7/site-packages/tensorflow/python/framework/tensor_util.py:161(GetFromNumpyDTypeDict)\n",
      "1904328/956377    2.007    0.000    2.914    0.000 /scratch/cluster/lty/anaconda2/lib/python2.7/site-packages/tensorflow/python/framework/tensor_util.py:194(_GetDenseDimensions)\n",
      "  3255748    1.996    0.000    1.996    0.000 {method 'WhichOneof' of 'google.protobuf.pyext._message.CMessage' objects}\n",
      "  4373370    1.953    0.000    1.953    0.000 /scratch/cluster/lty/anaconda2/lib/python2.7/site-packages/tensorflow/python/framework/ops.py:1979(__init__)\n",
      "  4701742    1.948    0.000    1.948    0.000 {iter}\n",
      "  3611772    1.903    0.000    1.903    0.000 /scratch/cluster/lty/anaconda2/lib/python2.7/site-packages/tensorflow/python/framework/ops.py:2067(node_def)\n",
      "  2337142    1.898    0.000    1.898    0.000 /scratch/cluster/lty/anaconda2/lib/python2.7/contextlib.py:12(__init__)\n",
      "   871519    1.876    0.000    2.599    0.000 /scratch/cluster/lty/anaconda2/lib/python2.7/site-packages/tensorflow/python/framework/ops.py:5332(__init__)\n",
      "2337142/2319104    1.822    0.000   16.447    0.000 /scratch/cluster/lty/anaconda2/lib/python2.7/contextlib.py:15(__enter__)\n",
      "  2495333    1.786    0.000    2.254    0.000 /scratch/cluster/lty/anaconda2/lib/python2.7/site-packages/tensorflow/python/framework/ops.py:4617(get_default)\n",
      "  1301766    1.781    0.000    3.985    0.000 /scratch/cluster/lty/anaconda2/lib/python2.7/site-packages/tensorflow/python/ops/control_flow_util.py:41(IsLoopExit)\n",
      "\n",
      "\n"
     ]
    },
    {
     "data": {
      "text/plain": [
       "<pstats.Stats instance at 0x7fda0f274758>"
      ]
     },
     "execution_count": 4,
     "metadata": {},
     "output_type": "execute_result"
    }
   ],
   "source": [
    "p.sort_stats('time').print_stats(100)\n"
   ]
  },
  {
   "cell_type": "code",
   "execution_count": null,
   "metadata": {},
   "outputs": [],
   "source": []
  }
 ],
 "metadata": {
  "kernelspec": {
   "display_name": "Python 2",
   "language": "python",
   "name": "python2"
  },
  "language_info": {
   "codemirror_mode": {
    "name": "ipython",
    "version": 2
   },
   "file_extension": ".py",
   "mimetype": "text/x-python",
   "name": "python",
   "nbconvert_exporter": "python",
   "pygments_lexer": "ipython2",
   "version": "2.7.14"
  }
 },
 "nbformat": 4,
 "nbformat_minor": 2
}
